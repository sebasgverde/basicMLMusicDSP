{
 "cells": [
  {
   "cell_type": "markdown",
   "metadata": {},
   "source": [
    "Some sources\n",
    "\n",
    "https://github.com/librosa/librosa\n",
    "\n",
    "https://magenta.tensorflow.org/onsets-frames\n",
    "\n",
    "http://pythonforengineers.com/audio-and-digital-signal-processingdsp-in-python/"
   ]
  },
  {
   "cell_type": "markdown",
   "metadata": {},
   "source": [
    "First generate a sin wave and save it as wav file http://pythonforengineers.com/audio-and-digital-signal-processingdsp-in-python/"
   ]
  },
  {
   "cell_type": "code",
   "execution_count": null,
   "metadata": {
    "scrolled": true
   },
   "outputs": [],
   "source": [
    "import numpy as np\n",
    " \n",
    "import wave\n",
    " \n",
    "from struct import *\n",
    " \n",
    "import matplotlib.pyplot as plt\n",
    " \n",
    "# frequency is the number of times a wave repeats a second\n",
    " \n",
    "frequency = 1000\n",
    " \n",
    "num_samples = 48000\n",
    " \n",
    "# The sampling rate of the analog to digital convert\n",
    " \n",
    "sampling_rate = 48000.0\n",
    " \n",
    "amplitude = 16000\n",
    " \n",
    "file = \"test.wav\"\n",
    "\n",
    "sine_wave = [np.sin(2 * np.pi * frequency * x/sampling_rate) for x in range(num_samples)] + [np.sin(2 * np.pi * frequency*2 * x/sampling_rate) for x in range(num_samples)]\n",
    "\n",
    "print(sine_wave[:10])\n",
    "print(len(sine_wave))\n",
    "\n"
   ]
  },
  {
   "cell_type": "code",
   "execution_count": null,
   "metadata": {},
   "outputs": [],
   "source": [
    "nframes=num_samples\n",
    " \n",
    "comptype=\"NONE\"\n",
    " \n",
    "compname=\"not compressed\"\n",
    " \n",
    "nchannels=1\n",
    " \n",
    "sampwidth=2\n",
    "\n",
    "\n",
    "wav_file=wave.open(file, 'w')\n",
    " \n",
    "wav_file.setparams((nchannels, sampwidth, int(sampling_rate), nframes, comptype, compname))\n",
    "\n",
    "for s in sine_wave:\n",
    "   wav_file.writeframes(struct.pack('h', int(s*amplitude)))"
   ]
  },
  {
   "cell_type": "markdown",
   "metadata": {},
   "source": [
    "Load wav and paint the spectrogram"
   ]
  },
  {
   "cell_type": "code",
   "execution_count": null,
   "metadata": {},
   "outputs": [],
   "source": [
    "from __future__ import print_function\n",
    "# We'll need numpy for some mathematical operations\n",
    "import numpy as np\n",
    "\n",
    "# matplotlib for displaying the output\n",
    "import matplotlib.pyplot as plt\n",
    "import matplotlib.style as ms\n",
    "ms.use('seaborn-muted')\n",
    "%matplotlib inline\n",
    "\n",
    "# and IPython.display for audio output\n",
    "import IPython.display\n",
    "\n",
    "# Librosa for audio\n",
    "import librosa\n",
    "# And the display module for visualization\n",
    "import librosa.display\n",
    "\n",
    "audio_path = 'test.wav'\n",
    "\n",
    "y, sr = librosa.load(audio_path)\n",
    "\n",
    "# Let's make and display a mel-scaled power (energy-squared) spectrogram\n",
    "S = librosa.feature.melspectrogram(y, sr=sr, n_mels=128)\n",
    "\n",
    "# Convert to log scale (dB). We'll use the peak power (max) as reference.\n",
    "log_S = librosa.power_to_db(S, ref=np.max)\n",
    "\n",
    "# Make a new figure\n",
    "plt.figure(figsize=(12,4))\n",
    "\n",
    "# Display the spectrogram on a mel scale\n",
    "# sample rate and hop length parameters are used to render the time axis\n",
    "librosa.display.specshow(log_S, sr=sr, x_axis='time', y_axis='mel')\n",
    "\n",
    "# Put a descriptive title on the plot\n",
    "plt.title('mel power spectrogram')\n",
    "\n",
    "# draw a color bar\n",
    "plt.colorbar(format='%+02.0f dB')\n",
    "\n",
    "# Make the figure layout compact\n",
    "plt.tight_layout()"
   ]
  },
  {
   "cell_type": "code",
   "execution_count": null,
   "metadata": {},
   "outputs": [],
   "source": [
    "import pickle"
   ]
  },
  {
   "cell_type": "code",
   "execution_count": null,
   "metadata": {},
   "outputs": [],
   "source": []
  },
  {
   "cell_type": "code",
   "execution_count": null,
   "metadata": {
    "scrolled": true
   },
   "outputs": [],
   "source": [
    "print(\"hello\")\n",
    "a = [1,2,3,4,5]"
   ]
  },
  {
   "cell_type": "code",
   "execution_count": null,
   "metadata": {},
   "outputs": [],
   "source": [
    "pickle.dump(a, open('test.p','wb'))"
   ]
  },
  {
   "cell_type": "code",
   "execution_count": null,
   "metadata": {},
   "outputs": [],
   "source": [
    "print(\"load pickle\")"
   ]
  },
  {
   "cell_type": "code",
   "execution_count": null,
   "metadata": {},
   "outputs": [],
   "source": [
    "loaded = pickle.load(file('test.p'))"
   ]
  },
  {
   "cell_type": "code",
   "execution_count": null,
   "metadata": {},
   "outputs": [],
   "source": [
    "print a"
   ]
  },
  {
   "cell_type": "code",
   "execution_count": null,
   "metadata": {},
   "outputs": [],
   "source": []
  },
  {
   "cell_type": "code",
   "execution_count": null,
   "metadata": {},
   "outputs": [],
   "source": []
  }
 ],
 "metadata": {
  "kernelspec": {
   "display_name": "Python 2",
   "language": "python",
   "name": "python2"
  },
  "language_info": {
   "codemirror_mode": {
    "name": "ipython",
    "version": 2
   },
   "file_extension": ".py",
   "mimetype": "text/x-python",
   "name": "python",
   "nbconvert_exporter": "python",
   "pygments_lexer": "ipython2",
   "version": "2.7.12"
  }
 },
 "nbformat": 4,
 "nbformat_minor": 2
}
